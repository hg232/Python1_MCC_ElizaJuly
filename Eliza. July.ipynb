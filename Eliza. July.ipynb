{
 "cells": [
  {
   "cell_type": "code",
   "execution_count": 1,
   "metadata": {},
   "outputs": [],
   "source": [
    "def strip_punct(sentence):\n",
    "    p = \",.?!;:\"\n",
    "    for this in p:\n",
    "        sentence = sentence.replace(this, \" \")\n",
    "    return sentence"
   ]
  },
  {
   "cell_type": "code",
   "execution_count": 2,
   "metadata": {},
   "outputs": [],
   "source": [
    "def fun2(x2):\n",
    "    return x2.replace('i ', 'you ').replace('me', 'you ').replace('my', 'your ').replace('am', 'are ') + (\"?\")\n",
    "#.replace('me', 'you').replace('my', 'your').replace('am', 'are')\n",
    "    #return sentence\n"
   ]
  },
  {
   "cell_type": "code",
   "execution_count": 3,
   "metadata": {},
   "outputs": [],
   "source": [
    "#def fun3(x3):\n",
    "    #return x3.replace('me', 'you')+(\"?\")\n",
    "    #return sentence\n"
   ]
  },
  {
   "cell_type": "code",
   "execution_count": 4,
   "metadata": {},
   "outputs": [],
   "source": [
    "z1 = (\"i \")\n",
    "z2 = (\"me \")\n",
    "z3 = (\"my \")\n",
    "z4 = (\"am \")"
   ]
  },
  {
   "cell_type": "code",
   "execution_count": 5,
   "metadata": {},
   "outputs": [
    {
     "name": "stdout",
     "output_type": "stream",
     "text": [
      "Answer -> hi\n",
      "Hello\n",
      "Answer -> how are you\n",
      "I am fine and how are you?\n",
      "Answer -> good\n",
      "tell me more about this.\n",
      "Answer -> what should we discuss\n",
      "Anything you want\n",
      "Answer -> i am hungry\n",
      "you are  hungry?\n",
      "Answer -> i ate my dog\n",
      "you ate your  dog?\n",
      "Answer -> bye\n",
      "Ok, bye\n"
     ]
    }
   ],
   "source": [
    "while True:\n",
    "    answer = strip_punct(input(\"Answer -> \")).strip() #.strip gets rid of the extra spaces\n",
    "    answer = answer.lower()\n",
    "    #answer = answer.replace(\".\", \" \") this would treat the variable so as to remove any periods and add a space.\n",
    "    if z1 in answer:\n",
    "        print(fun2(answer))\n",
    "        #when I do i ate my dog vs this is my dog, it doesn't work. \n",
    "    elif z2 in answer:\n",
    "        print(fun3(answer))\n",
    "    elif z3 in answer:\n",
    "        print(fun3(answer))\n",
    "    elif z4 in answer:\n",
    "        print(fun3(answer))\n",
    "    elif answer == \"bye\":\n",
    "        print(\"Ok, bye\")\n",
    "        break\n",
    "    elif answer == \"hi\":\n",
    "        print(\"Hello\")\n",
    "    elif answer == \"how are you\":\n",
    "        print(\"I am fine and how are you?\")\n",
    "    elif answer == \"what is your name\":\n",
    "        print(\"I am eliza\")\n",
    "    elif answer == \"what should we discuss\":\n",
    "        print(\"Anything you want\")\n",
    "    elif answer == \"I don't want to discuss that\":\n",
    "        print(\"Why not\")\n",
    "    else:\n",
    "        print(\"tell me more about this.\")      "
   ]
  },
  {
   "cell_type": "code",
   "execution_count": null,
   "metadata": {},
   "outputs": [],
   "source": []
  }
 ],
 "metadata": {
  "kernelspec": {
   "display_name": "Python 3",
   "language": "python",
   "name": "python3"
  },
  "language_info": {
   "codemirror_mode": {
    "name": "ipython",
    "version": 3
   },
   "file_extension": ".py",
   "mimetype": "text/x-python",
   "name": "python",
   "nbconvert_exporter": "python",
   "pygments_lexer": "ipython3",
   "version": "3.7.6"
  }
 },
 "nbformat": 4,
 "nbformat_minor": 4
}
